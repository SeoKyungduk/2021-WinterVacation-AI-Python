{
 "cells": [
  {
   "cell_type": "markdown",
   "id": "d56ae17c",
   "metadata": {},
   "source": [
    "자주 사용하는 단축키\n",
    "- a는 아래에 1셀 추가\n",
    "- b는 위에 1셀 추가\n",
    "- x는 셀 삭제\n",
    "- z는 이전 작업 취소\n",
    "- ctrl + enter : 현재 셀 실행\n",
    "- alt + enter : 현재 셀 실행 후 아래에 1셀 추가"
   ]
  },
  {
   "cell_type": "code",
   "execution_count": 5,
   "id": "f498eef8",
   "metadata": {},
   "outputs": [],
   "source": [
    "# 파이썬의 주석문"
   ]
  },
  {
   "cell_type": "code",
   "execution_count": 4,
   "id": "e5060cc1",
   "metadata": {},
   "outputs": [
    {
     "data": {
      "text/plain": [
       "'Hello! world'"
      ]
     },
     "execution_count": 4,
     "metadata": {},
     "output_type": "execute_result"
    }
   ],
   "source": [
    "'Hello! world'"
   ]
  },
  {
   "cell_type": "markdown",
   "id": "292003aa",
   "metadata": {},
   "source": [
    "### 데이터 타입\n",
    "- 숫자형(정수, 실수)\n",
    "- 문자형\n",
    "- 논리형"
   ]
  },
  {
   "cell_type": "code",
   "execution_count": 8,
   "id": "1033f46b",
   "metadata": {},
   "outputs": [
    {
     "name": "stdout",
     "output_type": "stream",
     "text": [
      "123\n",
      "-100\n"
     ]
    }
   ],
   "source": [
    "# 숫자형 - 정수\n",
    "print(123)\n",
    "print(-100)"
   ]
  },
  {
   "cell_type": "code",
   "execution_count": 10,
   "id": "bda93438",
   "metadata": {},
   "outputs": [
    {
     "data": {
      "text/plain": [
       "23.02300000000001"
      ]
     },
     "execution_count": 10,
     "metadata": {},
     "output_type": "execute_result"
    }
   ],
   "source": [
    "# 실수형\n",
    "123.123 - 100.100"
   ]
  },
  {
   "cell_type": "code",
   "execution_count": 14,
   "id": "00e6423a",
   "metadata": {},
   "outputs": [
    {
     "name": "stdout",
     "output_type": "stream",
     "text": [
      "문자는 작은따옴표로 만들 수 있습니다\n",
      "문자는 큰 따옴표로도 만들 수 있습니다.\n"
     ]
    }
   ],
   "source": [
    "# 문자형\n",
    "print('문자는 작은따옴표로 만들 수 있습니다')\n",
    "print(\"문자는 큰 따옴표로도 만들 수 있습니다.\")"
   ]
  },
  {
   "cell_type": "code",
   "execution_count": 15,
   "id": "9a056503",
   "metadata": {},
   "outputs": [
    {
     "name": "stdout",
     "output_type": "stream",
     "text": [
      "##################################################\n"
     ]
    }
   ],
   "source": [
    "print('#' * 50)"
   ]
  },
  {
   "cell_type": "code",
   "execution_count": 16,
   "id": "e8b84a79",
   "metadata": {},
   "outputs": [
    {
     "name": "stdout",
     "output_type": "stream",
     "text": [
      "True\n",
      "False\n"
     ]
    }
   ],
   "source": [
    "# 논리형\n",
    "print(True)\n",
    "print(False)"
   ]
  },
  {
   "cell_type": "code",
   "execution_count": 18,
   "id": "de3e7de2",
   "metadata": {},
   "outputs": [
    {
     "name": "stdout",
     "output_type": "stream",
     "text": [
      "True\n",
      "True\n",
      "False\n"
     ]
    }
   ],
   "source": [
    "print(1 == True)\n",
    "print(0 == False)\n",
    "print('a' == True) # 문자와도 비교가 가능합니다."
   ]
  },
  {
   "cell_type": "markdown",
   "id": "9a06ca39",
   "metadata": {},
   "source": [
    "## 자료구조\n",
    "- 자료형은 데이터가 어떻게 생겼는가에 대한 이야기\n",
    "- 자료구조는 데이터를 어떻게 쌓을(저장) 것인가에 대한 이야기"
   ]
  },
  {
   "cell_type": "markdown",
   "id": "ec7d5c10",
   "metadata": {},
   "source": [
    "#### 리스트\n",
    "- 다른 데이터형을 같이 저장할 수 있는 구조\n",
    "- 리스트는 [] 입니다.\n",
    "- 리스트는 index라는 방의 번호로 구분되어 있습니다."
   ]
  },
  {
   "cell_type": "code",
   "execution_count": 23,
   "id": "13a20226",
   "metadata": {},
   "outputs": [
    {
     "data": {
      "text/plain": [
       "[1, 2, 3]"
      ]
     },
     "execution_count": 23,
     "metadata": {},
     "output_type": "execute_result"
    }
   ],
   "source": [
    "a = [1, 2, 3]\n",
    "a"
   ]
  },
  {
   "cell_type": "code",
   "execution_count": 26,
   "id": "56d8abde",
   "metadata": {},
   "outputs": [
    {
     "data": {
      "text/plain": [
       "1"
      ]
     },
     "execution_count": 26,
     "metadata": {},
     "output_type": "execute_result"
    }
   ],
   "source": [
    "# 실습하기. a에서 숫자 1을 조회해주세요. a에서 0번째 방을 조회해주세요.\n",
    "a[0]"
   ]
  },
  {
   "cell_type": "code",
   "execution_count": 27,
   "id": "25635165",
   "metadata": {},
   "outputs": [
    {
     "data": {
      "text/plain": [
       "'a'"
      ]
     },
     "execution_count": 27,
     "metadata": {},
     "output_type": "execute_result"
    }
   ],
   "source": [
    "# 문자 리스트\n",
    "b = ['a', 'b', 'c']\n",
    "# b ['a'] = TypeError 발생\n",
    "b[0]"
   ]
  },
  {
   "cell_type": "code",
   "execution_count": 29,
   "id": "0864df22",
   "metadata": {},
   "outputs": [
    {
     "data": {
      "text/plain": [
       "'a'"
      ]
     },
     "execution_count": 29,
     "metadata": {},
     "output_type": "execute_result"
    }
   ],
   "source": [
    "# 파이썬은 배열이라는 개념이 없음\n",
    "# - 문자열만 배열처럼 사용이 가능함\n",
    "'abc'[0]"
   ]
  },
  {
   "cell_type": "code",
   "execution_count": 30,
   "id": "eedaa940",
   "metadata": {},
   "outputs": [
    {
     "data": {
      "text/plain": [
       "[True, 1, '2', 'Korea']"
      ]
     },
     "execution_count": 30,
     "metadata": {},
     "output_type": "execute_result"
    }
   ],
   "source": [
    "# 리스트에는 다른 유형의 자료형이 동시에 저장이 됩니다.\n",
    "d = [True, 1, '2', 'Korea']\n",
    "d"
   ]
  },
  {
   "cell_type": "code",
   "execution_count": 31,
   "id": "9fdfffe1",
   "metadata": {},
   "outputs": [],
   "source": [
    "# 파이썬으로 데이터 분석을 하는 것이 아니라 판다스를 통해 데이터를 분석 가능함"
   ]
  },
  {
   "cell_type": "code",
   "execution_count": 33,
   "id": "1c12316d",
   "metadata": {},
   "outputs": [
    {
     "name": "stdout",
     "output_type": "stream",
     "text": [
      "<class 'int'>\n",
      "<class 'str'>\n"
     ]
    }
   ],
   "source": [
    "# 데이터 타이블 확인하는 방법\n",
    "print(type(d[1])) # 숫자형\n",
    "print(type(d[3])) # 문자열"
   ]
  },
  {
   "cell_type": "markdown",
   "id": "fc8c8492",
   "metadata": {},
   "source": [
    "### 데이터 값 수정하기"
   ]
  },
  {
   "cell_type": "code",
   "execution_count": 34,
   "id": "93e3c15a",
   "metadata": {},
   "outputs": [
    {
     "data": {
      "text/plain": [
       "1"
      ]
     },
     "execution_count": 34,
     "metadata": {},
     "output_type": "execute_result"
    }
   ],
   "source": [
    "# 변수값(스칼라) 만들기\n",
    "a = 1\n",
    "a"
   ]
  },
  {
   "cell_type": "code",
   "execution_count": 35,
   "id": "8a55007e",
   "metadata": {},
   "outputs": [
    {
     "data": {
      "text/plain": [
       "'korea'"
      ]
     },
     "execution_count": 35,
     "metadata": {},
     "output_type": "execute_result"
    }
   ],
   "source": [
    "# 실습하기. a의 값을 korea로 변경해주세요\n",
    "a = 1\n",
    "a = 'korea'\n",
    "a"
   ]
  },
  {
   "cell_type": "code",
   "execution_count": 36,
   "id": "0e362c99",
   "metadata": {},
   "outputs": [
    {
     "data": {
      "text/plain": [
       "[1, 2, 3]"
      ]
     },
     "execution_count": 36,
     "metadata": {},
     "output_type": "execute_result"
    }
   ],
   "source": [
    "# 리스트 만들기\n",
    "b = [1, 2, 3]\n",
    "b"
   ]
  },
  {
   "cell_type": "code",
   "execution_count": 37,
   "id": "7e679bc0",
   "metadata": {},
   "outputs": [
    {
     "data": {
      "text/plain": [
       "[1, 'korea', 3]"
      ]
     },
     "execution_count": 37,
     "metadata": {},
     "output_type": "execute_result"
    }
   ],
   "source": [
    "# 실습하기. b의 1번째 방(값2)의 값을 korea로 변경해주세요\n",
    "b[1] = 'korea'\n",
    "b"
   ]
  },
  {
   "cell_type": "code",
   "execution_count": 39,
   "id": "8902e92b",
   "metadata": {},
   "outputs": [],
   "source": [
    "# 리스트 값 삭제하기\n",
    "a = [1, 2, 3, 4, 5]\n",
    "a\n",
    "\n",
    "del a[0]"
   ]
  },
  {
   "cell_type": "code",
   "execution_count": 40,
   "id": "7acde572",
   "metadata": {},
   "outputs": [
    {
     "data": {
      "text/plain": [
       "[2, 3, 4, 5]"
      ]
     },
     "execution_count": 40,
     "metadata": {},
     "output_type": "execute_result"
    }
   ],
   "source": [
    "a"
   ]
  },
  {
   "cell_type": "code",
   "execution_count": 41,
   "id": "56b341ce",
   "metadata": {},
   "outputs": [
    {
     "data": {
      "text/plain": [
       "2"
      ]
     },
     "execution_count": 41,
     "metadata": {},
     "output_type": "execute_result"
    }
   ],
   "source": [
    "a[0]"
   ]
  },
  {
   "cell_type": "markdown",
   "id": "50d84904",
   "metadata": {},
   "source": [
    "### 딕셔너리 자료구조\n",
    "- key와 value의 쌍(페어)으로 이루어진 자료구조\n",
    "- {}는 딕셔너리 자료구조\n",
    "- 순서, index, 방의 번호가 없습니다.\n",
    "- 반정형 구조인 json과 동일한 구조"
   ]
  },
  {
   "cell_type": "code",
   "execution_count": 43,
   "id": "589a490c",
   "metadata": {},
   "outputs": [
    {
     "data": {
      "text/plain": [
       "{'key1': 'Value1', 'key2': 'value2'}"
      ]
     },
     "execution_count": 43,
     "metadata": {},
     "output_type": "execute_result"
    }
   ],
   "source": [
    "# 딕셔너리 구조 만들기\n",
    "dic_a = {'key1':'Value1', 'key2':'value2'}\n",
    "dic_a"
   ]
  },
  {
   "cell_type": "code",
   "execution_count": 48,
   "id": "5ae09a9d",
   "metadata": {},
   "outputs": [
    {
     "name": "stdout",
     "output_type": "stream",
     "text": [
      "Value1\n",
      "value2\n"
     ]
    }
   ],
   "source": [
    "# 딕셔너리 조회하기\n",
    "print(dic_a['key1'])\n",
    "print(dic_a.get('key2'))"
   ]
  },
  {
   "cell_type": "code",
   "execution_count": 49,
   "id": "c8bf61fa",
   "metadata": {},
   "outputs": [
    {
     "data": {
      "text/plain": [
       "{'key1': 'korea', 'key2': 'value2'}"
      ]
     },
     "execution_count": 49,
     "metadata": {},
     "output_type": "execute_result"
    }
   ],
   "source": [
    "# 실습하기. dic_a의 key1의 값을 korea로 변경해주세요\n",
    "dic_a['key1'] = 'korea'\n",
    "dic_a"
   ]
  },
  {
   "cell_type": "code",
   "execution_count": 53,
   "id": "d14d4e4b",
   "metadata": {},
   "outputs": [
    {
     "data": {
      "text/plain": [
       "{'key1': 'korea', 'key2': 'value2', 'key3': '빅데이터'}"
      ]
     },
     "execution_count": 53,
     "metadata": {},
     "output_type": "execute_result"
    }
   ],
   "source": [
    "# 실습하기. dic_a의 key3에 빅데이터라는 값을 추가해주세요\n",
    "dic_a['key3'] = '빅데이터'\n",
    "dic_a"
   ]
  },
  {
   "cell_type": "code",
   "execution_count": 58,
   "id": "d5702c13",
   "metadata": {},
   "outputs": [],
   "source": [
    "# 리스트에 값 추가하기\n",
    "c = [0, 1]\n",
    "# c의 2번째 방에 2라는 값을 추가하기\n",
    "# c[2] = 2\n",
    "# - 리스트형은 함수를 이용하여 값을 추가합니다.\n",
    "c.append(2)"
   ]
  },
  {
   "cell_type": "code",
   "execution_count": 59,
   "id": "9522e12c",
   "metadata": {},
   "outputs": [
    {
     "data": {
      "text/plain": [
       "[0, 1, 2]"
      ]
     },
     "execution_count": 59,
     "metadata": {},
     "output_type": "execute_result"
    }
   ],
   "source": [
    "c"
   ]
  },
  {
   "cell_type": "code",
   "execution_count": 60,
   "id": "9de143dc",
   "metadata": {},
   "outputs": [],
   "source": [
    "# 모든 요소 지우기\n",
    "dic_a.clear()"
   ]
  },
  {
   "cell_type": "code",
   "execution_count": 61,
   "id": "065aa284",
   "metadata": {},
   "outputs": [
    {
     "data": {
      "text/plain": [
       "{}"
      ]
     },
     "execution_count": 61,
     "metadata": {},
     "output_type": "execute_result"
    }
   ],
   "source": [
    "dic_a"
   ]
  },
  {
   "cell_type": "code",
   "execution_count": null,
   "id": "304d521b",
   "metadata": {},
   "outputs": [],
   "source": []
  }
 ],
 "metadata": {
  "kernelspec": {
   "display_name": "Python 3 (ipykernel)",
   "language": "python",
   "name": "python3"
  },
  "language_info": {
   "codemirror_mode": {
    "name": "ipython",
    "version": 3
   },
   "file_extension": ".py",
   "mimetype": "text/x-python",
   "name": "python",
   "nbconvert_exporter": "python",
   "pygments_lexer": "ipython3",
   "version": "3.9.6"
  }
 },
 "nbformat": 4,
 "nbformat_minor": 5
}
