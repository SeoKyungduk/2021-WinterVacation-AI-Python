{
 "cells": [
  {
   "cell_type": "markdown",
   "id": "eb526790",
   "metadata": {},
   "source": [
    "### 02_operation\n",
    "- 연산"
   ]
  },
  {
   "cell_type": "markdown",
   "id": "db353d40",
   "metadata": {},
   "source": [
    "### 사칙연산"
   ]
  },
  {
   "cell_type": "code",
   "execution_count": 4,
   "id": "d69fffae",
   "metadata": {},
   "outputs": [
    {
     "name": "stdout",
     "output_type": "stream",
     "text": [
      "2\n",
      "1a\n",
      "[1, 2, 3, 4]\n"
     ]
    }
   ],
   "source": [
    "# 더하기 - 숫자형태\n",
    "print(1 + 1)\n",
    "\n",
    "# 붙이기 - 문자형태\n",
    "print('1' + 'a')\n",
    "\n",
    "# 합치다 - 자료형\n",
    "list01 = [1, 2]\n",
    "list02 = [3, 4]\n",
    "print(list01 + list02)"
   ]
  },
  {
   "cell_type": "code",
   "execution_count": 9,
   "id": "6a591710",
   "metadata": {},
   "outputs": [
    {
     "name": "stdout",
     "output_type": "stream",
     "text": [
      "1\n",
      "6\n",
      "9\n",
      "1.5\n",
      "1\n",
      "1\n"
     ]
    }
   ],
   "source": [
    "# 다른 사칙연산들\n",
    "print(3 - 2)\n",
    "print(3 * 2)\n",
    "print(3 ** 2)\n",
    "print(3 / 2)  # 나누기는 몫, 나머지를 같이 구하는 연산\n",
    "print(3 // 2) # 몫을 구하는 연산\n",
    "print(3 % 2)  # 나머지를 구하는 연산(mod)"
   ]
  },
  {
   "cell_type": "markdown",
   "id": "e856392d",
   "metadata": {},
   "source": [
    "### 비교연산자\n",
    "- 결과값(응답값)이 무!조!건!! 논리형(True, False)입니다."
   ]
  },
  {
   "cell_type": "code",
   "execution_count": 12,
   "id": "be067e5f",
   "metadata": {},
   "outputs": [
    {
     "name": "stdout",
     "output_type": "stream",
     "text": [
      "True\n",
      "True\n",
      "False\n",
      "False\n",
      "True\n",
      "True\n"
     ]
    }
   ],
   "source": [
    "print(10 == 10)\n",
    "print('a' == 'a')\n",
    "print(10 != 10)\n",
    "print(10 > 10)\n",
    "print(10 <= 10)\n",
    "print(True == 1)"
   ]
  },
  {
   "cell_type": "markdown",
   "id": "311f8d2b",
   "metadata": {},
   "source": [
    "### 논리연산자\n",
    "- and: 둘 다 참이어야 참\n",
    "- or: 둘 중 하나라도 참이면 참\n",
    "- not: 논리값의 반점"
   ]
  },
  {
   "cell_type": "code",
   "execution_count": 16,
   "id": "d17dc031",
   "metadata": {},
   "outputs": [
    {
     "name": "stdout",
     "output_type": "stream",
     "text": [
      "and: 둘 다 참이어야 참\n",
      "True\n",
      "False\n",
      "or: 둘 중 하나라도 참이면 참\n",
      "True\n",
      "True\n",
      "not: 논리값의 반전\n",
      "False\n",
      "True\n"
     ]
    }
   ],
   "source": [
    "print('and: 둘 다 참이어야 참')\n",
    "print(True and True)\n",
    "print(True and False)\n",
    "\n",
    "print('or: 둘 중 하나라도 참이면 참')\n",
    "print(True or True)\n",
    "print(True or False)\n",
    "\n",
    "print('not: 논리값의 반전')\n",
    "print(not True)\n",
    "print(not False)"
   ]
  },
  {
   "cell_type": "markdown",
   "id": "01ba10ac",
   "metadata": {},
   "source": [
    "### 조건문\n",
    "- 참인지, 거짓인지에 따라서 프로그래밍의 흐름을 제어하는 기법"
   ]
  },
  {
   "cell_type": "markdown",
   "id": "88d58867",
   "metadata": {},
   "source": [
    "if 조건:  \n",
    "    참일 때 실행  \n",
    "else:  \n",
    "    거짓일 때 실행  "
   ]
  },
  {
   "cell_type": "code",
   "execution_count": 18,
   "id": "4333ad90",
   "metadata": {},
   "outputs": [
    {
     "name": "stdout",
     "output_type": "stream",
     "text": [
      "참일때 실행\n"
     ]
    }
   ],
   "source": [
    "if True:\n",
    "    print('참일때 실행')"
   ]
  },
  {
   "cell_type": "code",
   "execution_count": 19,
   "id": "2fcf6801",
   "metadata": {},
   "outputs": [
    {
     "name": "stdout",
     "output_type": "stream",
     "text": [
      "거짓일 때 실행\n"
     ]
    }
   ],
   "source": [
    "if False:\n",
    "    print('참일때 실행')\n",
    "else:\n",
    "    print('거짓일 때 실행')"
   ]
  },
  {
   "cell_type": "code",
   "execution_count": 24,
   "id": "6777cac9",
   "metadata": {},
   "outputs": [
    {
     "name": "stdout",
     "output_type": "stream",
     "text": [
      "짝수\n"
     ]
    }
   ],
   "source": [
    "# 실습하기. b의 값이 짝수인지 홀수인지 검사하는 조건문을 작성해주세요\n",
    "# - b가 짝수면 짝수라고 출력\n",
    "# - b가 홀수면 홀수라고 출력\n",
    "# - 힌트: 어떤 수가 2로 나누었을 때의 나머지가 0이면 짝수, 1이면 홀수\n",
    "b = 87161252\n",
    "\n",
    "if b % 2 == 0:\n",
    "    print(\"짝수\")\n",
    "elif b % 2 == 1:\n",
    "    print('홀수')"
   ]
  },
  {
   "cell_type": "markdown",
   "id": "6254f5dc",
   "metadata": {},
   "source": [
    "### 파이선에 있는 독특한 조건문\n",
    "- x in object 조건문\n",
    "- object(객체)는 리스트, 문자열"
   ]
  },
  {
   "cell_type": "code",
   "execution_count": 25,
   "id": "106436dc",
   "metadata": {},
   "outputs": [
    {
     "name": "stdout",
     "output_type": "stream",
     "text": [
      "포함되어있다\n"
     ]
    }
   ],
   "source": [
    "# 만일 2가 [1, 2, 3, 4]중에 있으면 포함되어있다를 출력하기\n",
    "if 2 in [1, 2, 3, 4]:\n",
    "    print('포함되어있다')"
   ]
  },
  {
   "cell_type": "code",
   "execution_count": 26,
   "id": "3f354fbb",
   "metadata": {},
   "outputs": [
    {
     "name": "stdout",
     "output_type": "stream",
     "text": [
      "포함안됨\n"
     ]
    }
   ],
   "source": [
    "if 't' in 'korea':\n",
    "    print('포함되어있다')\n",
    "else:\n",
    "    print('포함안됨')"
   ]
  },
  {
   "cell_type": "code",
   "execution_count": 29,
   "id": "3b5c1a4b",
   "metadata": {},
   "outputs": [
    {
     "name": "stdout",
     "output_type": "stream",
     "text": [
      "bill과 card가 모두 없다면 걸어가자\n"
     ]
    }
   ],
   "source": [
    "# 조건이 여러개인 조건문\n",
    "pocket = ['card', 'bill']\n",
    "\n",
    "# - bill이 존재하면 택시를 타고 가자를 출력\n",
    "# - bill은 없고, card가 존재하면 카드가 있으니 택시를 타고 가자를 출력\n",
    "# - bill과 card가 모두 없다면 걸어가자를 출력\n",
    "\n",
    "if 'bill' in pocket:\n",
    "    print('택시를 타고 가자')\n",
    "elif 'card' in pocket:\n",
    "    print('bill은 없지만 카드가 있으니 택시를 타고가자')\n",
    "elif 'bill' and 'card' not in pocket:\n",
    "    print('걸어가자')"
   ]
  },
  {
   "cell_type": "markdown",
   "id": "7a8f1a92",
   "metadata": {},
   "source": [
    "### 반복문\n",
    "- 조건에 따라서 같은 동작을 여러번 반복\n",
    "- for: 횟수가 중요한 경우\n",
    "- while: 조건이 중요한 경우"
   ]
  },
  {
   "cell_type": "markdown",
   "id": "f1f4d6ff",
   "metadata": {},
   "source": [
    "### for 변수 in object:"
   ]
  },
  {
   "cell_type": "code",
   "execution_count": 32,
   "id": "68e62354",
   "metadata": {},
   "outputs": [
    {
     "name": "stdout",
     "output_type": "stream",
     "text": [
      "1\n",
      "2\n",
      "3\n",
      "4\n"
     ]
    }
   ],
   "source": [
    "list01 = [1, 2, 3, 4]\n",
    "list01\n",
    "\n",
    "for i in list01:\n",
    "    print(i)"
   ]
  },
  {
   "cell_type": "code",
   "execution_count": 33,
   "id": "9fe94014",
   "metadata": {},
   "outputs": [
    {
     "name": "stdout",
     "output_type": "stream",
     "text": [
      "2\n",
      "4\n",
      "6\n",
      "8\n"
     ]
    }
   ],
   "source": [
    "# list01의 모든 방에 * 2를 해서 출력하기\n",
    "for i in list01:\n",
    "    print(i * 2)"
   ]
  },
  {
   "cell_type": "code",
   "execution_count": 35,
   "id": "e9d80b54",
   "metadata": {},
   "outputs": [
    {
     "name": "stdout",
     "output_type": "stream",
     "text": [
      "0\n",
      "1\n",
      "2\n",
      "3\n",
      "4\n"
     ]
    }
   ],
   "source": [
    "# i가 4보다 작거나 같을 때까지 실행\n",
    "i = 0\n",
    "\n",
    "while i <= 4:\n",
    "    print(i)\n",
    "    i += 1"
   ]
  },
  {
   "cell_type": "code",
   "execution_count": 37,
   "id": "ffce759c",
   "metadata": {},
   "outputs": [],
   "source": [
    "# 실습하기. list01의 모든 방을 검사하여 짝수면 짝수, 홀수면 홀수를 출력해주세요"
   ]
  },
  {
   "cell_type": "code",
   "execution_count": null,
   "id": "3ecbabb4",
   "metadata": {},
   "outputs": [],
   "source": []
  },
  {
   "cell_type": "code",
   "execution_count": null,
   "id": "2829681e",
   "metadata": {},
   "outputs": [],
   "source": []
  }
 ],
 "metadata": {
  "kernelspec": {
   "display_name": "Python 3 (ipykernel)",
   "language": "python",
   "name": "python3"
  },
  "language_info": {
   "codemirror_mode": {
    "name": "ipython",
    "version": 3
   },
   "file_extension": ".py",
   "mimetype": "text/x-python",
   "name": "python",
   "nbconvert_exporter": "python",
   "pygments_lexer": "ipython3",
   "version": "3.9.6"
  }
 },
 "nbformat": 4,
 "nbformat_minor": 5
}
