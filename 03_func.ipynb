{
 "cells": [
  {
   "cell_type": "markdown",
   "id": "afa001fb",
   "metadata": {},
   "source": [
    "# 03_func\n",
    "- 함수는 영소문자()의 형태입니다."
   ]
  },
  {
   "cell_type": "code",
   "execution_count": 1,
   "id": "01209c3e",
   "metadata": {},
   "outputs": [
    {
     "name": "stdout",
     "output_type": "stream",
     "text": [
      "출력을 하는 함수\n"
     ]
    }
   ],
   "source": [
    "print('출력을 하는 함수')"
   ]
  },
  {
   "cell_type": "code",
   "execution_count": 10,
   "id": "130084ae",
   "metadata": {},
   "outputs": [
    {
     "name": "stdout",
     "output_type": "stream",
     "text": [
      "60\n",
      "5\n"
     ]
    }
   ],
   "source": [
    "# 객체의 길이를 확인하는 함수\n",
    "x = 'apythonfdljasfl;jkadsdfjaslk;fakldjsfdalk;jsdsfaklj;dfaskl;;'\n",
    "print(len(x))\n",
    "\n",
    "b = [1, 2, 3, 123, 571]\n",
    "print(len(b))"
   ]
  },
  {
   "cell_type": "code",
   "execution_count": 11,
   "id": "95754245",
   "metadata": {},
   "outputs": [
    {
     "name": "stdout",
     "output_type": "stream",
     "text": [
      "571\n",
      "y\n"
     ]
    }
   ],
   "source": [
    "# 객체에서 가장 큰 값\n",
    "print(max(b))\n",
    "print(max(x))"
   ]
  },
  {
   "cell_type": "code",
   "execution_count": 14,
   "id": "83b3877b",
   "metadata": {},
   "outputs": [
    {
     "name": "stdout",
     "output_type": "stream",
     "text": [
      "3\n",
      "3.2\n",
      "3.15\n"
     ]
    }
   ],
   "source": [
    "# 반올림\n",
    "a = 3.152316548\n",
    "print(round(a))\n",
    "print(round(a, 1))\n",
    "print(round(a, 2))"
   ]
  },
  {
   "cell_type": "code",
   "execution_count": 18,
   "id": "cae75811",
   "metadata": {},
   "outputs": [
    {
     "name": "stdout",
     "output_type": "stream",
     "text": [
      "HELLO\n",
      "hello\n"
     ]
    }
   ],
   "source": [
    "# 파이썬에서 함수를 사용하는 방법\n",
    "print('hello'.upper())\n",
    "print('HELLO'.lower())"
   ]
  },
  {
   "cell_type": "code",
   "execution_count": 21,
   "id": "9e92b361",
   "metadata": {},
   "outputs": [
    {
     "data": {
      "text/plain": [
       "'12'"
      ]
     },
     "execution_count": 21,
     "metadata": {},
     "output_type": "execute_result"
    }
   ],
   "source": [
    "# 자료형 변환\n",
    "'1' + str(2)"
   ]
  },
  {
   "cell_type": "code",
   "execution_count": 23,
   "id": "460c53f4",
   "metadata": {},
   "outputs": [
    {
     "data": {
      "text/plain": [
       "3"
      ]
     },
     "execution_count": 23,
     "metadata": {},
     "output_type": "execute_result"
    }
   ],
   "source": [
    "# 실습하기. 아래의 연산을 숫자연산이 가능하도록 만들어주세요\n",
    "# 1 + '2'\n",
    "1 + int('2')"
   ]
  },
  {
   "cell_type": "code",
   "execution_count": 27,
   "id": "da1340f7",
   "metadata": {},
   "outputs": [
    {
     "data": {
      "text/plain": [
       "30"
      ]
     },
     "execution_count": 27,
     "metadata": {},
     "output_type": "execute_result"
    }
   ],
   "source": [
    "# 람다(lambda): 이름이 없는 함수, 익명함수\n",
    "\n",
    "# - 두 개의 수를 더해서 반환하는 함수\n",
    "(lambda x, y: x+y)(10, 20)"
   ]
  },
  {
   "cell_type": "code",
   "execution_count": 30,
   "id": "68bf6a18",
   "metadata": {},
   "outputs": [
    {
     "name": "stdout",
     "output_type": "stream",
     "text": [
      "True\n",
      "False\n"
     ]
    }
   ],
   "source": [
    "# 어떤 수가 짝수인지 홀수인지를 판별하는 lambda만들기\n",
    "print((lambda x: x % 2 ==0)(2)) # 짝수\n",
    "print((lambda x: x % 2 ==0)(1)) # 홀수"
   ]
  },
  {
   "cell_type": "markdown",
   "id": "117713f9",
   "metadata": {},
   "source": [
    "### 외부패키지 이용하기\n",
    "- package.install은 pip를 이용\n",
    "- library()는 import 이용"
   ]
  },
  {
   "cell_type": "code",
   "execution_count": 11,
   "id": "2faf3dad",
   "metadata": {},
   "outputs": [
    {
     "name": "stdout",
     "output_type": "stream",
     "text": [
      "Requirement already satisfied: datetime in c:\\python\\lib\\site-packages (4.4)"
     ]
    },
    {
     "name": "stderr",
     "output_type": "stream",
     "text": [
      "WARNING: You are using pip version 21.1.3; however, version 22.0.3 is available.\n",
      "You should consider upgrading via the 'c:\\python\\python.exe -m pip install --upgrade pip' command.\n"
     ]
    },
    {
     "name": "stdout",
     "output_type": "stream",
     "text": [
      "\n",
      "Requirement already satisfied: zope.interface in c:\\python\\lib\\site-packages (from datetime) (5.4.0)\n",
      "Requirement already satisfied: pytz in c:\\python\\lib\\site-packages (from datetime) (2021.3)\n",
      "Requirement already satisfied: setuptools in c:\\python\\lib\\site-packages (from zope.interface->datetime) (56.0.0)\n"
     ]
    }
   ],
   "source": [
    "!pip install datetime"
   ]
  },
  {
   "cell_type": "code",
   "execution_count": 12,
   "id": "63cdfd9a",
   "metadata": {},
   "outputs": [],
   "source": [
    "import datetime"
   ]
  },
  {
   "cell_type": "code",
   "execution_count": 16,
   "id": "575b7a4b",
   "metadata": {},
   "outputs": [
    {
     "data": {
      "text/plain": [
       "datetime.datetime(2022, 2, 15, 17, 55, 6, 112794)"
      ]
     },
     "execution_count": 16,
     "metadata": {},
     "output_type": "execute_result"
    }
   ],
   "source": [
    "# 현재 날짜를 구하기\n",
    "df = datetime.datetime.now()\n",
    "df"
   ]
  },
  {
   "cell_type": "code",
   "execution_count": 17,
   "id": "3edfe386",
   "metadata": {},
   "outputs": [
    {
     "data": {
      "text/plain": [
       "datetime.datetime"
      ]
     },
     "execution_count": 17,
     "metadata": {},
     "output_type": "execute_result"
    }
   ],
   "source": [
    "type(df)"
   ]
  },
  {
   "cell_type": "code",
   "execution_count": 18,
   "id": "53f0dfa6",
   "metadata": {},
   "outputs": [
    {
     "data": {
      "text/plain": [
       "2022"
      ]
     },
     "execution_count": 18,
     "metadata": {},
     "output_type": "execute_result"
    }
   ],
   "source": [
    "# 년도 조회하기\n",
    "df.year"
   ]
  },
  {
   "cell_type": "code",
   "execution_count": 19,
   "id": "3e1da4e9",
   "metadata": {},
   "outputs": [
    {
     "data": {
      "text/plain": [
       "2"
      ]
     },
     "execution_count": 19,
     "metadata": {},
     "output_type": "execute_result"
    }
   ],
   "source": [
    "df.month"
   ]
  },
  {
   "cell_type": "code",
   "execution_count": 20,
   "id": "28311ad2",
   "metadata": {},
   "outputs": [
    {
     "data": {
      "text/plain": [
       "15"
      ]
     },
     "execution_count": 20,
     "metadata": {},
     "output_type": "execute_result"
    }
   ],
   "source": [
    "df.day"
   ]
  },
  {
   "cell_type": "code",
   "execution_count": 26,
   "id": "fef45e07",
   "metadata": {},
   "outputs": [
    {
     "name": "stdout",
     "output_type": "stream",
     "text": [
      "2022-02-15\n",
      "2022.02.15.\n",
      "17:55:06\n"
     ]
    }
   ],
   "source": [
    "# 시간을 문자열로 출력하기\n",
    "print(df.strftime('%Y-%m-%d'))\n",
    "print(df.strftime('%Y.%m.%d.'))\n",
    "print(df.strftime('%H:%M:%S'))"
   ]
  },
  {
   "cell_type": "code",
   "execution_count": 27,
   "id": "bc771660",
   "metadata": {},
   "outputs": [
    {
     "data": {
      "text/plain": [
       "datetime.timedelta(days=1)"
      ]
     },
     "execution_count": 27,
     "metadata": {},
     "output_type": "execute_result"
    }
   ],
   "source": [
    "# 1 day 생성하기\n",
    "datetime.timedelta(days=1)"
   ]
  },
  {
   "cell_type": "code",
   "execution_count": 30,
   "id": "c455ff54",
   "metadata": {},
   "outputs": [
    {
     "data": {
      "text/plain": [
       "datetime.datetime(2022, 5, 26, 17, 55, 6, 112794)"
      ]
     },
     "execution_count": 30,
     "metadata": {},
     "output_type": "execute_result"
    }
   ],
   "source": [
    "df + datetime.timedelta(days=100) # 100일 후"
   ]
  },
  {
   "cell_type": "code",
   "execution_count": 33,
   "id": "aa6c034f",
   "metadata": {},
   "outputs": [
    {
     "data": {
      "text/plain": [
       "datetime.datetime(2021, 11, 7, 17, 55, 6, 112794)"
      ]
     },
     "execution_count": 33,
     "metadata": {},
     "output_type": "execute_result"
    }
   ],
   "source": [
    "df - datetime.timedelta(days=100) # 100일 전"
   ]
  },
  {
   "cell_type": "code",
   "execution_count": null,
   "id": "8b84d0c4",
   "metadata": {},
   "outputs": [],
   "source": []
  },
  {
   "cell_type": "code",
   "execution_count": null,
   "id": "16322208",
   "metadata": {},
   "outputs": [],
   "source": []
  }
 ],
 "metadata": {
  "kernelspec": {
   "display_name": "Python 3 (ipykernel)",
   "language": "python",
   "name": "python3"
  },
  "language_info": {
   "codemirror_mode": {
    "name": "ipython",
    "version": 3
   },
   "file_extension": ".py",
   "mimetype": "text/x-python",
   "name": "python",
   "nbconvert_exporter": "python",
   "pygments_lexer": "ipython3",
   "version": "3.9.6"
  }
 },
 "nbformat": 4,
 "nbformat_minor": 5
}
