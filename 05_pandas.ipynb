{
 "cells": [
  {
   "cell_type": "markdown",
   "id": "1185c6d0",
   "metadata": {},
   "source": [
    "# 05_pandas"
   ]
  },
  {
   "cell_type": "markdown",
   "id": "3ff2ba40",
   "metadata": {},
   "source": [
    "### Pandas는 오픈소스인 R을 python 언어로 옮겨온 것\n",
    "- R의 자료구조 중 벡터와 데이터프레임을 시리즈(Series)와 데이터프레임(DataFrame)으로 제공합니다."
   ]
  },
  {
   "cell_type": "markdown",
   "id": "b83c9129",
   "metadata": {},
   "source": [
    "### 시리즈 클래스\n",
    "- Numpy의 배열과 비슷하지만 각 데이터의 의미를 표시하는 index를 붙일 수 있다."
   ]
  },
  {
   "cell_type": "code",
   "execution_count": 1,
   "id": "3458620e",
   "metadata": {},
   "outputs": [],
   "source": [
    "import numpy as np # numpy를 np로 줄임\n",
    "import pandas as pd # pandas를 pd로 줄임"
   ]
  },
  {
   "cell_type": "code",
   "execution_count": 2,
   "id": "c297a5dd",
   "metadata": {},
   "outputs": [],
   "source": [
    "s = pd.Series([1, 2, 3, 4])"
   ]
  },
  {
   "cell_type": "code",
   "execution_count": 3,
   "id": "036e1fec",
   "metadata": {},
   "outputs": [
    {
     "data": {
      "text/plain": [
       "0    1\n",
       "1    2\n",
       "2    3\n",
       "3    4\n",
       "dtype: int64"
      ]
     },
     "execution_count": 3,
     "metadata": {},
     "output_type": "execute_result"
    }
   ],
   "source": [
    "s"
   ]
  },
  {
   "cell_type": "code",
   "execution_count": 4,
   "id": "4c5b26ce",
   "metadata": {},
   "outputs": [
    {
     "name": "stdout",
     "output_type": "stream",
     "text": [
      "1\n",
      "2\n",
      "0    1\n",
      "1    2\n",
      "2    3\n",
      "dtype: int64\n",
      "0    1\n",
      "2    3\n",
      "dtype: int64\n"
     ]
    }
   ],
   "source": [
    "# 조회하기\n",
    "print(s[0])\n",
    "print(s[1])\n",
    "print(s[0:3])\n",
    "print(s[[0, 2]])"
   ]
  },
  {
   "cell_type": "code",
   "execution_count": 5,
   "id": "446d0788",
   "metadata": {},
   "outputs": [
    {
     "name": "stdout",
     "output_type": "stream",
     "text": [
      "2\n",
      "0     1\n",
      "1    10\n",
      "2     3\n",
      "3     4\n",
      "dtype: int64\n"
     ]
    }
   ],
   "source": [
    "# 실습하기. s의 1번째 방의 값을 10으로 수정해주세요.\n",
    "print(s[1])\n",
    "s[1] = 10\n",
    "print(s)"
   ]
  },
  {
   "cell_type": "code",
   "execution_count": 6,
   "id": "25f7d6f6",
   "metadata": {},
   "outputs": [
    {
     "data": {
      "text/plain": [
       "0      0\n",
       "1      1\n",
       "2      2\n",
       "3      3\n",
       "4      4\n",
       "5      5\n",
       "6      6\n",
       "7      7\n",
       "8      8\n",
       "9      9\n",
       "10    10\n",
       "dtype: int32"
      ]
     },
     "execution_count": 6,
     "metadata": {},
     "output_type": "execute_result"
    }
   ],
   "source": [
    "# 실습하기. np를 이용해서 0-10까지 Series를 만들어주세요\n",
    "a = np.arange(0, 11) # 0 ~ 10\n",
    "pd.Series(a)"
   ]
  },
  {
   "cell_type": "code",
   "execution_count": 7,
   "id": "95c9ca10",
   "metadata": {},
   "outputs": [
    {
     "data": {
      "text/plain": [
       "2"
      ]
     },
     "execution_count": 7,
     "metadata": {},
     "output_type": "execute_result"
    }
   ],
   "source": [
    "# 조회하기\n",
    "pd.Series(np.arange(0, 11))[2]"
   ]
  },
  {
   "cell_type": "code",
   "execution_count": 8,
   "id": "bb107276",
   "metadata": {},
   "outputs": [
    {
     "data": {
      "text/plain": [
       "서울    900000\n",
       "부산    340000\n",
       "인천    280000\n",
       "대구    240000\n",
       "dtype: int64"
      ]
     },
     "execution_count": 8,
     "metadata": {},
     "output_type": "execute_result"
    }
   ],
   "source": [
    "# 인덱스를 가진 시리즈 만들기\n",
    "s = pd.Series([900000, 340000, 280000, 240000], index=['서울', '부산', '인천', '대구'])\n",
    "s"
   ]
  },
  {
   "cell_type": "code",
   "execution_count": 9,
   "id": "3fd0a4cb",
   "metadata": {},
   "outputs": [
    {
     "name": "stdout",
     "output_type": "stream",
     "text": [
      "900000\n",
      "340000\n",
      "900000\n",
      "340000\n",
      "280000\n"
     ]
    }
   ],
   "source": [
    "# 조회하기\n",
    "print(s[0])\n",
    "print(s[1])\n",
    "print(s['서울'])\n",
    "print(s['부산'])\n",
    "# 실습하기. 인천의 값을 조회해주세요\n",
    "print(s['인천'])"
   ]
  },
  {
   "cell_type": "code",
   "execution_count": 10,
   "id": "55815897",
   "metadata": {},
   "outputs": [
    {
     "data": {
      "text/plain": [
       "도시\n",
       "서울    900000\n",
       "부산    340000\n",
       "인천    280000\n",
       "대구    240000\n",
       "Name: 인구, dtype: int64"
      ]
     },
     "execution_count": 10,
     "metadata": {},
     "output_type": "execute_result"
    }
   ],
   "source": [
    "s.name = '인구'\n",
    "s.index.name = '도시'\n",
    "s"
   ]
  },
  {
   "cell_type": "code",
   "execution_count": 11,
   "id": "62554d00",
   "metadata": {},
   "outputs": [
    {
     "data": {
      "text/plain": [
       "DatetimeIndex(['2022-02-01', '2022-02-02', '2022-02-03', '2022-02-04',\n",
       "               '2022-02-05', '2022-02-06'],\n",
       "              dtype='datetime64[ns]', freq='D')"
      ]
     },
     "execution_count": 11,
     "metadata": {},
     "output_type": "execute_result"
    }
   ],
   "source": [
    "# 인덱스 따로 생성하기\n",
    "dates = pd.date_range('2022-02-01', '2022-02-06')\n",
    "dates"
   ]
  },
  {
   "cell_type": "code",
   "execution_count": 12,
   "id": "9a23acb4",
   "metadata": {},
   "outputs": [
    {
     "name": "stdout",
     "output_type": "stream",
     "text": [
      "2022-02-01    80\n",
      "2022-02-02    82\n",
      "2022-02-03    85\n",
      "2022-02-04    90\n",
      "2022-02-05    83\n",
      "2022-02-06    87\n",
      "Freq: D, dtype: int64\n",
      "2022-02-01     70\n",
      "2022-02-02     75\n",
      "2022-02-03    200\n",
      "2022-02-04     83\n",
      "2022-02-05     79\n",
      "2022-02-06     77\n",
      "Freq: D, dtype: int64\n"
     ]
    }
   ],
   "source": [
    "temp1 = pd.Series([80, 82, 85, 90, 83, 87], index = dates)\n",
    "temp2 = pd.Series([70, 75, 200, 83, 79, 77], index = dates)\n",
    "print(temp1)\n",
    "print(temp2)"
   ]
  },
  {
   "cell_type": "code",
   "execution_count": 13,
   "id": "7e9f7521",
   "metadata": {},
   "outputs": [
    {
     "name": "stdout",
     "output_type": "stream",
     "text": [
      "2022-02-01     10\n",
      "2022-02-02      7\n",
      "2022-02-03   -115\n",
      "2022-02-04      7\n",
      "2022-02-05      4\n",
      "2022-02-06     10\n",
      "Freq: D, dtype: int64\n",
      "2022-02-01    150\n",
      "2022-02-02    157\n",
      "2022-02-03    285\n",
      "2022-02-04    173\n",
      "2022-02-05    162\n",
      "2022-02-06    164\n",
      "Freq: D, dtype: int64\n"
     ]
    }
   ],
   "source": [
    "# 같은 index이므로 사칙연산 가능\n",
    "print(temp1 - temp2)\n",
    "print(temp1 + temp2)"
   ]
  },
  {
   "cell_type": "code",
   "execution_count": 14,
   "id": "62f91cd5",
   "metadata": {},
   "outputs": [
    {
     "name": "stdout",
     "output_type": "stream",
     "text": [
      "84.5\n",
      "507\n"
     ]
    }
   ],
   "source": [
    "# 함수\n",
    "print(temp1.mean()) # 평균\n",
    "print(temp1.sum()) # 함"
   ]
  },
  {
   "cell_type": "code",
   "execution_count": 15,
   "id": "5f0d105d",
   "metadata": {},
   "outputs": [
    {
     "data": {
      "text/html": [
       "<div>\n",
       "<style scoped>\n",
       "    .dataframe tbody tr th:only-of-type {\n",
       "        vertical-align: middle;\n",
       "    }\n",
       "\n",
       "    .dataframe tbody tr th {\n",
       "        vertical-align: top;\n",
       "    }\n",
       "\n",
       "    .dataframe thead th {\n",
       "        text-align: right;\n",
       "    }\n",
       "</style>\n",
       "<table border=\"1\" class=\"dataframe\">\n",
       "  <thead>\n",
       "    <tr style=\"text-align: right;\">\n",
       "      <th></th>\n",
       "      <th>서울</th>\n",
       "      <th>부산</th>\n",
       "    </tr>\n",
       "  </thead>\n",
       "  <tbody>\n",
       "    <tr>\n",
       "      <th>2022-02-01</th>\n",
       "      <td>80</td>\n",
       "      <td>70</td>\n",
       "    </tr>\n",
       "    <tr>\n",
       "      <th>2022-02-02</th>\n",
       "      <td>82</td>\n",
       "      <td>75</td>\n",
       "    </tr>\n",
       "    <tr>\n",
       "      <th>2022-02-03</th>\n",
       "      <td>85</td>\n",
       "      <td>200</td>\n",
       "    </tr>\n",
       "    <tr>\n",
       "      <th>2022-02-04</th>\n",
       "      <td>90</td>\n",
       "      <td>83</td>\n",
       "    </tr>\n",
       "    <tr>\n",
       "      <th>2022-02-05</th>\n",
       "      <td>83</td>\n",
       "      <td>79</td>\n",
       "    </tr>\n",
       "    <tr>\n",
       "      <th>2022-02-06</th>\n",
       "      <td>87</td>\n",
       "      <td>77</td>\n",
       "    </tr>\n",
       "  </tbody>\n",
       "</table>\n",
       "</div>"
      ],
      "text/plain": [
       "            서울   부산\n",
       "2022-02-01  80   70\n",
       "2022-02-02  82   75\n",
       "2022-02-03  85  200\n",
       "2022-02-04  90   83\n",
       "2022-02-05  83   79\n",
       "2022-02-06  87   77"
      ]
     },
     "execution_count": 15,
     "metadata": {},
     "output_type": "execute_result"
    }
   ],
   "source": [
    "# 데이터프레임 만들기\n",
    "temps_df = pd.DataFrame({'서울':temp1, '부산':temp2})\n",
    "temps_df"
   ]
  },
  {
   "cell_type": "code",
   "execution_count": 16,
   "id": "cf215763",
   "metadata": {},
   "outputs": [
    {
     "data": {
      "text/plain": [
       "2022-02-01    80\n",
       "2022-02-02    82\n",
       "2022-02-03    85\n",
       "2022-02-04    90\n",
       "2022-02-05    83\n",
       "2022-02-06    87\n",
       "Freq: D, Name: 서울, dtype: int64"
      ]
     },
     "execution_count": 16,
     "metadata": {},
     "output_type": "execute_result"
    }
   ],
   "source": [
    "temps_df['서울']"
   ]
  },
  {
   "cell_type": "code",
   "execution_count": 17,
   "id": "ac5f28a2",
   "metadata": {},
   "outputs": [
    {
     "data": {
      "text/plain": [
       "2022-02-01     70\n",
       "2022-02-02     75\n",
       "2022-02-03    200\n",
       "2022-02-04     83\n",
       "2022-02-05     79\n",
       "2022-02-06     77\n",
       "Freq: D, Name: 부산, dtype: int64"
      ]
     },
     "execution_count": 17,
     "metadata": {},
     "output_type": "execute_result"
    }
   ],
   "source": [
    "temps_df.부산 # 한글('부산')인 경우는 사용하면 안됨"
   ]
  },
  {
   "cell_type": "code",
   "execution_count": 18,
   "id": "db9a83c4",
   "metadata": {},
   "outputs": [
    {
     "data": {
      "text/html": [
       "<div>\n",
       "<style scoped>\n",
       "    .dataframe tbody tr th:only-of-type {\n",
       "        vertical-align: middle;\n",
       "    }\n",
       "\n",
       "    .dataframe tbody tr th {\n",
       "        vertical-align: top;\n",
       "    }\n",
       "\n",
       "    .dataframe thead th {\n",
       "        text-align: right;\n",
       "    }\n",
       "</style>\n",
       "<table border=\"1\" class=\"dataframe\">\n",
       "  <thead>\n",
       "    <tr style=\"text-align: right;\">\n",
       "      <th></th>\n",
       "      <th>서울</th>\n",
       "      <th>부산</th>\n",
       "      <th>diff</th>\n",
       "    </tr>\n",
       "  </thead>\n",
       "  <tbody>\n",
       "    <tr>\n",
       "      <th>2022-02-01</th>\n",
       "      <td>80</td>\n",
       "      <td>70</td>\n",
       "      <td>10</td>\n",
       "    </tr>\n",
       "    <tr>\n",
       "      <th>2022-02-02</th>\n",
       "      <td>82</td>\n",
       "      <td>75</td>\n",
       "      <td>7</td>\n",
       "    </tr>\n",
       "    <tr>\n",
       "      <th>2022-02-03</th>\n",
       "      <td>85</td>\n",
       "      <td>200</td>\n",
       "      <td>-115</td>\n",
       "    </tr>\n",
       "    <tr>\n",
       "      <th>2022-02-04</th>\n",
       "      <td>90</td>\n",
       "      <td>83</td>\n",
       "      <td>7</td>\n",
       "    </tr>\n",
       "    <tr>\n",
       "      <th>2022-02-05</th>\n",
       "      <td>83</td>\n",
       "      <td>79</td>\n",
       "      <td>4</td>\n",
       "    </tr>\n",
       "    <tr>\n",
       "      <th>2022-02-06</th>\n",
       "      <td>87</td>\n",
       "      <td>77</td>\n",
       "      <td>10</td>\n",
       "    </tr>\n",
       "  </tbody>\n",
       "</table>\n",
       "</div>"
      ],
      "text/plain": [
       "            서울   부산  diff\n",
       "2022-02-01  80   70    10\n",
       "2022-02-02  82   75     7\n",
       "2022-02-03  85  200  -115\n",
       "2022-02-04  90   83     7\n",
       "2022-02-05  83   79     4\n",
       "2022-02-06  87   77    10"
      ]
     },
     "execution_count": 18,
     "metadata": {},
     "output_type": "execute_result"
    }
   ],
   "source": [
    "# 열 추가하기\n",
    "temp = temps_df['서울'] - temps_df['부산']\n",
    "temp\n",
    "temps_df['diff'] = temp\n",
    "temps_df"
   ]
  },
  {
   "cell_type": "code",
   "execution_count": 19,
   "id": "26d3a5c4",
   "metadata": {},
   "outputs": [
    {
     "data": {
      "text/plain": [
       "2022-02-01     True\n",
       "2022-02-02    False\n",
       "2022-02-03    False\n",
       "2022-02-04    False\n",
       "2022-02-05    False\n",
       "2022-02-06     True\n",
       "Freq: D, Name: diff, dtype: bool"
      ]
     },
     "execution_count": 19,
     "metadata": {},
     "output_type": "execute_result"
    }
   ],
   "source": [
    "temps_df['diff'] >= 10"
   ]
  },
  {
   "cell_type": "code",
   "execution_count": 20,
   "id": "7512a067",
   "metadata": {},
   "outputs": [
    {
     "data": {
      "text/html": [
       "<div>\n",
       "<style scoped>\n",
       "    .dataframe tbody tr th:only-of-type {\n",
       "        vertical-align: middle;\n",
       "    }\n",
       "\n",
       "    .dataframe tbody tr th {\n",
       "        vertical-align: top;\n",
       "    }\n",
       "\n",
       "    .dataframe thead th {\n",
       "        text-align: right;\n",
       "    }\n",
       "</style>\n",
       "<table border=\"1\" class=\"dataframe\">\n",
       "  <thead>\n",
       "    <tr style=\"text-align: right;\">\n",
       "      <th></th>\n",
       "      <th>서울</th>\n",
       "      <th>부산</th>\n",
       "      <th>diff</th>\n",
       "    </tr>\n",
       "  </thead>\n",
       "  <tbody>\n",
       "    <tr>\n",
       "      <th>2022-02-01</th>\n",
       "      <td>80</td>\n",
       "      <td>70</td>\n",
       "      <td>10</td>\n",
       "    </tr>\n",
       "    <tr>\n",
       "      <th>2022-02-06</th>\n",
       "      <td>87</td>\n",
       "      <td>77</td>\n",
       "      <td>10</td>\n",
       "    </tr>\n",
       "  </tbody>\n",
       "</table>\n",
       "</div>"
      ],
      "text/plain": [
       "            서울  부산  diff\n",
       "2022-02-01  80  70    10\n",
       "2022-02-06  87  77    10"
      ]
     },
     "execution_count": 20,
     "metadata": {},
     "output_type": "execute_result"
    }
   ],
   "source": [
    "# 온도차가 10도 이상인 날만 출력하기\n",
    "temps_df[temps_df['diff'] >= 10]"
   ]
  },
  {
   "cell_type": "code",
   "execution_count": null,
   "id": "67f7c658",
   "metadata": {},
   "outputs": [],
   "source": []
  },
  {
   "cell_type": "code",
   "execution_count": null,
   "id": "afdd6f72",
   "metadata": {},
   "outputs": [],
   "source": []
  },
  {
   "cell_type": "code",
   "execution_count": null,
   "id": "e2c77af3",
   "metadata": {},
   "outputs": [],
   "source": []
  },
  {
   "cell_type": "code",
   "execution_count": null,
   "id": "9521c120",
   "metadata": {},
   "outputs": [],
   "source": []
  }
 ],
 "metadata": {
  "kernelspec": {
   "display_name": "Python 3 (ipykernel)",
   "language": "python",
   "name": "python3"
  },
  "language_info": {
   "codemirror_mode": {
    "name": "ipython",
    "version": 3
   },
   "file_extension": ".py",
   "mimetype": "text/x-python",
   "name": "python",
   "nbconvert_exporter": "python",
   "pygments_lexer": "ipython3",
   "version": "3.9.6"
  }
 },
 "nbformat": 4,
 "nbformat_minor": 5
}
