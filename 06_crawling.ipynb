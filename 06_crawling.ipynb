{
 "cells": [
  {
   "cell_type": "markdown",
   "id": "a50593b9",
   "metadata": {},
   "source": [
    "# 06_crawling"
   ]
  },
  {
   "cell_type": "code",
   "execution_count": 1,
   "id": "15cb751b",
   "metadata": {},
   "outputs": [],
   "source": [
    "# 크롤링은 html로부터 원하는 데이터를 가져오는 기법\n",
    "# - id는 #, class는 ."
   ]
  },
  {
   "cell_type": "code",
   "execution_count": 1,
   "id": "95979264",
   "metadata": {},
   "outputs": [],
   "source": [
    "from bs4 import BeautifulSoup\n",
    "import requests as req"
   ]
  },
  {
   "cell_type": "markdown",
   "id": "899280bc",
   "metadata": {},
   "source": [
    "### html 구성\n",
    "- head: 꾸미는 역할\n",
    "- body: 구현부(직접 보이는 부분)"
   ]
  },
  {
   "cell_type": "code",
   "execution_count": 6,
   "id": "e35b8080",
   "metadata": {},
   "outputs": [],
   "source": [
    "# 대상이 되는 페이지\n",
    "url = 'http://big-data-insight.com/'"
   ]
  },
  {
   "cell_type": "code",
   "execution_count": 9,
   "id": "769e6d0e",
   "metadata": {},
   "outputs": [],
   "source": [
    "# html 화면을 내 컴퓨터로 가져오는 명령어 get\n",
    "response = req.get(url)\n",
    "\n",
    "# - 응답이 200이면 성공\n",
    "# - 404: 페이지 없음이면 url이 잘못된 경우"
   ]
  },
  {
   "cell_type": "code",
   "execution_count": 17,
   "id": "1cd9c9c9",
   "metadata": {},
   "outputs": [],
   "source": [
    "# 데이터를 수집하기 위해 html 형태로 변경하기\n",
    "parseHtml = BeautifulSoup(response.text, 'html.parser')"
   ]
  },
  {
   "cell_type": "code",
   "execution_count": 20,
   "id": "ecf6315f",
   "metadata": {},
   "outputs": [
    {
     "data": {
      "text/plain": [
       "[<a href=\"/article?id=43\">라면 브랜드 경쟁력 '신라면' 독주... 불닭볶음면, 진라면 뒤이어</a>,\n",
       " <a href=\"/article?id=42\">‘홈트’ 전성시대…요가복 인기 브랜드 봤더니</a>,\n",
       " <a href=\"/article?id=41\">2020년 9월 세일기간 제일 많이 검색된 드럭스토어는?</a>,\n",
       " <a href=\"/article?id=21\">증권사 검색량 코로나 이전과 이후로 나뉜다. 누가누가 제일 많이 검색되었을까?</a>]"
      ]
     },
     "execution_count": 20,
     "metadata": {},
     "output_type": "execute_result"
    }
   ],
   "source": [
    "# html에서 내가 원하는 데이터 가져오기\n",
    "# - 인기기사 데이터\n",
    "articles = parseHtml.select('#popular_articles a')\n",
    "articles"
   ]
  },
  {
   "cell_type": "code",
   "execution_count": 22,
   "id": "c277514f",
   "metadata": {},
   "outputs": [
    {
     "name": "stdout",
     "output_type": "stream",
     "text": [
      "라면 브랜드 경쟁력 '신라면' 독주... 불닭볶음면, 진라면 뒤이어\n",
      "‘홈트’ 전성시대…요가복 인기 브랜드 봤더니\n",
      "2020년 9월 세일기간 제일 많이 검색된 드럭스토어는?\n",
      "증권사 검색량 코로나 이전과 이후로 나뉜다. 누가누가 제일 많이 검색되었을까?\n"
     ]
    }
   ],
   "source": [
    "# 실습하기. articles의 모든 기사를 text만 출력해주세요\n",
    "for a in articles:\n",
    "    print(a.text)"
   ]
  },
  {
   "cell_type": "code",
   "execution_count": null,
   "id": "83faf038",
   "metadata": {},
   "outputs": [],
   "source": []
  },
  {
   "cell_type": "code",
   "execution_count": null,
   "id": "0de9f90e",
   "metadata": {},
   "outputs": [],
   "source": []
  },
  {
   "cell_type": "code",
   "execution_count": null,
   "id": "e0eaf8a1",
   "metadata": {},
   "outputs": [],
   "source": []
  },
  {
   "cell_type": "code",
   "execution_count": null,
   "id": "ad9249f2",
   "metadata": {},
   "outputs": [],
   "source": []
  },
  {
   "cell_type": "code",
   "execution_count": null,
   "id": "65003b53",
   "metadata": {},
   "outputs": [],
   "source": []
  },
  {
   "cell_type": "code",
   "execution_count": null,
   "id": "6ae37dcf",
   "metadata": {},
   "outputs": [],
   "source": []
  }
 ],
 "metadata": {
  "kernelspec": {
   "display_name": "Python 3 (ipykernel)",
   "language": "python",
   "name": "python3"
  },
  "language_info": {
   "codemirror_mode": {
    "name": "ipython",
    "version": 3
   },
   "file_extension": ".py",
   "mimetype": "text/x-python",
   "name": "python",
   "nbconvert_exporter": "python",
   "pygments_lexer": "ipython3",
   "version": "3.9.6"
  }
 },
 "nbformat": 4,
 "nbformat_minor": 5
}
