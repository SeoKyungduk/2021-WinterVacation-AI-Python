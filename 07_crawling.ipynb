{
 "cells": [
  {
   "cell_type": "markdown",
   "id": "44f02343",
   "metadata": {},
   "source": [
    "# 07_crawling"
   ]
  },
  {
   "cell_type": "code",
   "execution_count": 1,
   "id": "fb18c799",
   "metadata": {},
   "outputs": [],
   "source": [
    "from bs4 import BeautifulSoup\n",
    "import requests as req"
   ]
  },
  {
   "cell_type": "code",
   "execution_count": 2,
   "id": "b6571204",
   "metadata": {},
   "outputs": [],
   "source": [
    "url = 'https://www.naver.com/'"
   ]
  },
  {
   "cell_type": "code",
   "execution_count": 3,
   "id": "7025dc92",
   "metadata": {},
   "outputs": [],
   "source": [
    "response = req.get(url)"
   ]
  },
  {
   "cell_type": "code",
   "execution_count": 6,
   "id": "f24c2693",
   "metadata": {},
   "outputs": [],
   "source": [
    "parseHtml = BeautifulSoup(response.text, 'html.parser')"
   ]
  },
  {
   "cell_type": "code",
   "execution_count": 9,
   "id": "102bd513",
   "metadata": {},
   "outputs": [
    {
     "data": {
      "text/plain": [
       "[<p class=\"login_msg\">Connect with people</p>]"
      ]
     },
     "execution_count": 9,
     "metadata": {},
     "output_type": "execute_result"
    }
   ],
   "source": [
    "parseHtml.select('.login_msg')"
   ]
  },
  {
   "cell_type": "code",
   "execution_count": null,
   "id": "316411e3",
   "metadata": {},
   "outputs": [],
   "source": []
  },
  {
   "cell_type": "code",
   "execution_count": null,
   "id": "59b7edb7",
   "metadata": {},
   "outputs": [],
   "source": []
  },
  {
   "cell_type": "code",
   "execution_count": null,
   "id": "f3adf4a4",
   "metadata": {},
   "outputs": [],
   "source": []
  },
  {
   "cell_type": "code",
   "execution_count": null,
   "id": "9aa8b66b",
   "metadata": {},
   "outputs": [],
   "source": []
  }
 ],
 "metadata": {
  "kernelspec": {
   "display_name": "Python 3 (ipykernel)",
   "language": "python",
   "name": "python3"
  },
  "language_info": {
   "codemirror_mode": {
    "name": "ipython",
    "version": 3
   },
   "file_extension": ".py",
   "mimetype": "text/x-python",
   "name": "python",
   "nbconvert_exporter": "python",
   "pygments_lexer": "ipython3",
   "version": "3.9.6"
  }
 },
 "nbformat": 4,
 "nbformat_minor": 5
}
