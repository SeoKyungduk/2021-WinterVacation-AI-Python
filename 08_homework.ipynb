{
 "cells": [
  {
   "cell_type": "markdown",
   "id": "3d9d19d5",
   "metadata": {},
   "source": [
    "# 01_homework"
   ]
  },
  {
   "cell_type": "code",
   "execution_count": 2,
   "id": "cbce3259",
   "metadata": {},
   "outputs": [],
   "source": [
    "from bs4 import BeautifulSoup\n",
    "import requests as req"
   ]
  },
  {
   "cell_type": "code",
   "execution_count": 3,
   "id": "ebe3fafb",
   "metadata": {},
   "outputs": [],
   "source": [
    "# 크롤링 대상이 되는 url\n",
    "url = 'https://jtbc.joins.com/search/news?term=%EB%B9%85%EB%8D%B0%EC%9D%B4%ED%84%B0'"
   ]
  },
  {
   "cell_type": "code",
   "execution_count": 5,
   "id": "7842a87c",
   "metadata": {},
   "outputs": [],
   "source": [
    "# url로부터 페이지 읽어오기\n",
    "response = req.get(url) # 200이 나오면 성공"
   ]
  },
  {
   "cell_type": "code",
   "execution_count": 8,
   "id": "96b5fb47",
   "metadata": {},
   "outputs": [],
   "source": [
    "parseHtml = BeautifulSoup(response.text)"
   ]
  },
  {
   "cell_type": "code",
   "execution_count": 11,
   "id": "e4890b39",
   "metadata": {},
   "outputs": [],
   "source": [
    "cnt = parseHtml.select('.txt_result')"
   ]
  },
  {
   "cell_type": "code",
   "execution_count": 13,
   "id": "a58663bb",
   "metadata": {},
   "outputs": [
    {
     "data": {
      "text/plain": [
       "<strong>1,223</strong>"
      ]
     },
     "execution_count": 13,
     "metadata": {},
     "output_type": "execute_result"
    }
   ],
   "source": [
    "cnt[0].find('strong')"
   ]
  },
  {
   "cell_type": "code",
   "execution_count": 14,
   "id": "8c56e81a",
   "metadata": {},
   "outputs": [
    {
     "data": {
      "text/plain": [
       "'1,223건'"
      ]
     },
     "execution_count": 14,
     "metadata": {},
     "output_type": "execute_result"
    }
   ],
   "source": [
    "cnt[0].find('strong').text + '건'"
   ]
  },
  {
   "cell_type": "code",
   "execution_count": null,
   "id": "816d0c70",
   "metadata": {},
   "outputs": [],
   "source": []
  },
  {
   "cell_type": "code",
   "execution_count": null,
   "id": "2993a9b3",
   "metadata": {},
   "outputs": [],
   "source": []
  }
 ],
 "metadata": {
  "kernelspec": {
   "display_name": "Python 3 (ipykernel)",
   "language": "python",
   "name": "python3"
  },
  "language_info": {
   "codemirror_mode": {
    "name": "ipython",
    "version": 3
   },
   "file_extension": ".py",
   "mimetype": "text/x-python",
   "name": "python",
   "nbconvert_exporter": "python",
   "pygments_lexer": "ipython3",
   "version": "3.9.6"
  }
 },
 "nbformat": 4,
 "nbformat_minor": 5
}
