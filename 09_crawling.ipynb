{
 "cells": [
  {
   "cell_type": "markdown",
   "id": "63f9aa05",
   "metadata": {},
   "source": [
    "# 09_crawling"
   ]
  },
  {
   "cell_type": "code",
   "execution_count": 1,
   "id": "eda14996",
   "metadata": {},
   "outputs": [],
   "source": [
    "from bs4 import BeautifulSoup\n",
    "import requests as req"
   ]
  },
  {
   "cell_type": "code",
   "execution_count": 3,
   "id": "4253b1be",
   "metadata": {},
   "outputs": [
    {
     "data": {
      "text/plain": [
       "{'User-Agent': 'Mozilla/5.0 (Windows NT 10.0; Win64; x64) AppleWebKit/537.36 (KHTML, like Gecko) Chrome/98.0.4758.102 Safari/537.36'}"
      ]
     },
     "execution_count": 3,
     "metadata": {},
     "output_type": "execute_result"
    }
   ],
   "source": [
    "agent = 'Mozilla/5.0 (Windows NT 10.0; Win64; x64) AppleWebKit/537.36 (KHTML, like Gecko) Chrome/98.0.4758.102 Safari/537.36'\n",
    "h = {'User-Agent':agent}\n",
    "h"
   ]
  },
  {
   "cell_type": "code",
   "execution_count": 4,
   "id": "146332fb",
   "metadata": {},
   "outputs": [],
   "source": [
    "url = 'https://www.coupang.com/np/search?component=&q=%EB%A7%88%EC%8A%A4%ED%81%AC&channel=user'"
   ]
  },
  {
   "cell_type": "code",
   "execution_count": 6,
   "id": "bf50f037",
   "metadata": {},
   "outputs": [],
   "source": [
    "response = req.get(url, headers=h)"
   ]
  },
  {
   "cell_type": "code",
   "execution_count": 9,
   "id": "1f0759fa",
   "metadata": {},
   "outputs": [],
   "source": [
    "parseHtml = BeautifulSoup(response.text)"
   ]
  },
  {
   "cell_type": "code",
   "execution_count": 14,
   "id": "961626ae",
   "metadata": {
    "scrolled": true
   },
   "outputs": [],
   "source": [
    "product_list = parseHtml.select('#productList')[0]"
   ]
  },
  {
   "cell_type": "code",
   "execution_count": 17,
   "id": "f09ffa98",
   "metadata": {},
   "outputs": [
    {
     "data": {
      "text/plain": [
       "36"
      ]
     },
     "execution_count": 17,
     "metadata": {},
     "output_type": "execute_result"
    }
   ],
   "source": [
    "len(product_list.findAll('li'))"
   ]
  },
  {
   "cell_type": "code",
   "execution_count": 19,
   "id": "89f36702",
   "metadata": {
    "scrolled": true
   },
   "outputs": [],
   "source": [
    "item = product_list.findAll('li')[0]"
   ]
  },
  {
   "cell_type": "code",
   "execution_count": 22,
   "id": "cafe18d5",
   "metadata": {},
   "outputs": [
    {
     "data": {
      "text/plain": [
       "'린프리미엄 황사방역용 마스크 대형 KF94, 1개입, 100매, 화이트'"
      ]
     },
     "execution_count": 22,
     "metadata": {},
     "output_type": "execute_result"
    }
   ],
   "source": [
    "item.select('.name')[0].text"
   ]
  },
  {
   "cell_type": "code",
   "execution_count": 38,
   "id": "241ddfb2",
   "metadata": {},
   "outputs": [
    {
     "data": {
      "text/plain": [
       "'5,720원'"
      ]
     },
     "execution_count": 38,
     "metadata": {},
     "output_type": "execute_result"
    }
   ],
   "source": [
    "# 아이템의 가격\n",
    "item.select('.price-value')[0].text + '원'"
   ]
  },
  {
   "cell_type": "code",
   "execution_count": 43,
   "id": "f102cbe2",
   "metadata": {},
   "outputs": [
    {
     "data": {
      "text/plain": [
       "'린마스트 / 가격:5000원'"
      ]
     },
     "execution_count": 43,
     "metadata": {},
     "output_type": "execute_result"
    }
   ],
   "source": [
    "# 포맷팅\n",
    "'{0} / 가격:{1}원'.format('린마스트', '5000')"
   ]
  },
  {
   "cell_type": "code",
   "execution_count": 44,
   "id": "86cd79c4",
   "metadata": {
    "scrolled": true
   },
   "outputs": [
    {
     "name": "stdout",
     "output_type": "stream",
     "text": [
      "린프리미엄 황사방역용 마스크 대형 KF94, 1개입, 100매, 화이트 / 가격:28,900원\n",
      "코멧 일회용 마스크, 100개입, 1개, 블랙 / 가격:11,990원\n",
      "코멧 일회용 마스크, 100개입, 1개, 화이트 / 가격:11,990원\n",
      "에어에이드 귀편하고 숨쉬기 편한 새부리형 컬러 마스크 극내생산, 50매, 중형 베이지 / 가격:19,500원\n",
      "비에스에스 기프트마스크 덴탈마스크 100매, 일반형, 검정 / 가격:19,800원\n",
      "코지 KF94 덴탈마스크 100매 황사방역 블랙 화이트 10매X10팩, 화이트 (100매) / 가격:27,900원\n",
      "한스웰 한마음 일회용 황사 마스크 대형 KF94, 1개입, 100개 / 가격:16,500원\n",
      "탐사 KF94 황사방역 마스크 대형, 블랙, 10매, 10개 / 가격:19,090원\n",
      "덴탈마스크 깨끗한마스크 비말차단 KFAD 패션 컬러마스크 귀안아픈 마스크, 1번 일회용화이트 50매입 / 가격:4,910원\n",
      "탐사 KF94 황사방역 마스크 대형, 화이트, 10매, 10개 / 가격:17,590원\n",
      "고르고 오순도순 일회용 마스크 성인용 블랙, 50개입, 1개 / 가격:5,100원\n",
      "비에스에스 기프트 마스크 국산 3중 MB필터 비말차단 일회용 덴탈 마스크 50매, 검정(대형) / 가격:9,900원\n",
      "탐사 KF94 황사방역 마스크 대형, 화이트, 100매, 1개 / 가격:15,400원\n",
      "CLA 데일리 새부리형 2D 마스크 대형, 50매입, 1개, 베이지 / 가격:24,500원\n",
      "탐사 KF94 방역마스크 새부리형 2단접이 대형 50p (5매입 지퍼백 10개), 1개, 블랙 / 가격:14,990원\n",
      "스마트클린 황사방역 마스크 대형 KF94 흰색, 1박스, 50매입 / 가격:17,500원\n",
      "아에르 스탠다드 라이트핏 보건용 마스크 중형 KF94, 1개입, 50개, 백색 / 가격:39,500원\n",
      "아이엠 쿨 마스크 5p, 블랙 / 가격:14,610원\n",
      "다나마스크 뉴다나 온숨 마스크 대형 KF94 그레이, 50매, 1개 / 가격:19,900원\n",
      "참존 톤업핏 마스크 로맨스업 코랄 중형, 25개입, 1개 / 가격:16,110원\n",
      "한스웰 한마음 일회용 황사 마스크 대형 KF94, 1개입, 50개 / 가격:8,910원\n",
      "참존 톤업핏 마스크 중형, 25개입, 1개, 누드업 베이지 / 가격:16,970원\n",
      "탐사 KF94 마스크 레귤러핏 (개별포장), 대형, 1매, 100개 / 가격:21,740원\n",
      "아이바나리 에어황사방역용 마스크 중형 KF94, 10개입, 3개, 웜 베이지 / 가격:25,020원\n",
      "시노텍스 귀편하고 숨쉬기편한 새부리형 신소재 마스크 50매 개별포장, 대형(L) 50매 / 가격:30,800원\n",
      "코멧 KF94 보건마스크 새부리형 2단접이 대형, 5개입, 10개, 블랙 / 가격:12,590원\n",
      "고르고 오순도순 일회용 마스크 성인용 블랙, 50개입, 1개 / 가격:5,100원\n",
      "아에르 스탠다드 라이트핏 보건용 마스크 대형 KF94, 1개입, 50개, 시티 블랙 / 가격:37,850원\n",
      "탐사 KF-AD 비말차단 마스크 대형, 100개입, 1개 / 가격:14,090원\n",
      "탐사 KF94 방역마스크 새부리형 2단접이 50p (5매입 지퍼백 10개), 대형 / 가격:14,990원\n",
      "블랙딘 개별포장 일회용마스크3중필터 블랙50매, 50개, 1개 / 가격:5,900원\n",
      "아에르 스탠다드 라이트핏 보건용 마스크 소형 KF94, 1개입, 50개, 밀레니엄 화이트 / 가격:39,500원\n",
      "에어데이즈 보건용 마스크 대형 KF94, 1개입, 50개, 흰색 / 가격:20,240원\n",
      "닥터벨라 고급형 화이트 비말차단용 마스크 대형 KF-AD, 50개입, 1개 / 가격:8,160원\n",
      "스마트클린 황사차단 마스크 대형 KF80 흰색, 1박스, 50매입 / 가격:17,200원\n",
      "3겹 일회용 성인 마스크, 50매입, 1박스, 화이트 / 가격:5,720원\n"
     ]
    }
   ],
   "source": [
    "# 반복문 만들기\n",
    "for item in product_list.findAll('li'):\n",
    "    name = item.select('.name')[0].text\n",
    "    price = item.select('.price-value')[0].text\n",
    "    # print(name, price)\n",
    "    print('{0} / 가격:{1}원'.format(name, price))"
   ]
  },
  {
   "cell_type": "code",
   "execution_count": null,
   "id": "ee60dfa0",
   "metadata": {},
   "outputs": [],
   "source": []
  }
 ],
 "metadata": {
  "kernelspec": {
   "display_name": "Python 3 (ipykernel)",
   "language": "python",
   "name": "python3"
  },
  "language_info": {
   "codemirror_mode": {
    "name": "ipython",
    "version": 3
   },
   "file_extension": ".py",
   "mimetype": "text/x-python",
   "name": "python",
   "nbconvert_exporter": "python",
   "pygments_lexer": "ipython3",
   "version": "3.9.6"
  }
 },
 "nbformat": 4,
 "nbformat_minor": 5
}
